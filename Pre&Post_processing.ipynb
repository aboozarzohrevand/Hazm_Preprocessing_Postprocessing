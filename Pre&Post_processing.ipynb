{
  "nbformat": 4,
  "nbformat_minor": 0,
  "metadata": {
    "colab": {
      "name": "Untitled51.ipynb",
      "provenance": []
    },
    "kernelspec": {
      "name": "python3",
      "display_name": "Python 3"
    },
    "language_info": {
      "name": "python"
    }
  },
  "cells": [
    {
      "cell_type": "code",
      "execution_count": null,
      "metadata": {
        "id": "tiZBe5DktQha"
      },
      "outputs": [],
      "source": [
        "!pip install hazm\n"
      ]
    },
    {
      "cell_type": "code",
      "source": [
        "import re\n",
        "import pandas as pd\n",
        "from hazm import *\n",
        "normalizer = Normalizer()"
      ],
      "metadata": {
        "id": "kWNU52hotkgB"
      },
      "execution_count": 13,
      "outputs": []
    },
    {
      "cell_type": "code",
      "source": [
        "def normalizeArabic(text):\n",
        "    text = re.sub(\"[ٱََّْـِٰٱَِِّ.»«،:.؟!]\", \"\", text)\n",
        "    return(text)"
      ],
      "metadata": {
        "id": "hqePk4y6trSo"
      },
      "execution_count": 3,
      "outputs": []
    },
    {
      "cell_type": "code",
      "source": [
        "def preprocess_hazm(text):\n",
        "  list1=[]\n",
        "  valid_chars =(r\"[ آابپتثجچحخدذرزژسشصضطظعغفقکگلمنوهیئ1234567890]+\")\n",
        "  text_q =normalizeArabic(text)\n",
        "  for char in text_q:\n",
        "      if char not in valid_chars:\n",
        "        list1.append(char)\n",
        "  res = []\n",
        "  for i in list1:\n",
        "      if i not in res:\n",
        "          res.append(i)\n",
        "  res_replacement=['ی', 'ک', 'ا', 'ه']\n",
        "  for id, rep in enumerate(res_replacement):\n",
        "    text = text.replace(res[id], rep)\n",
        "\n",
        "  return text"
      ],
      "metadata": {
        "id": "X9w1ZWXgttxI"
      },
      "execution_count": 15,
      "outputs": []
    },
    {
      "cell_type": "code",
      "source": [
        "def uplpad_word_var():\n",
        "  df = pd.read_csv('word_vav.txt', sep='|', header='infer',encoding=\"utf-8\");\n",
        "  verses = df['Word'].values.tolist()    \n",
        "  return verses"
      ],
      "metadata": {
        "id": "gE0hUP-YtwKX"
      },
      "execution_count": 16,
      "outputs": []
    },
    {
      "cell_type": "code",
      "source": [
        "def postprocess_hazm(text):\n",
        "  verses=uplpad_word_var()\n",
        "  findv=re.findall(r'\\bو\\w+', text)\n",
        "  for  va in findv:  \n",
        "    if va not in verses:\n",
        "      tex = va\n",
        "      replacement = \"و \"\n",
        "      result = tex.replace(tex[0:1], replacement, 1)\n",
        "      text=text.replace(va, result)\n",
        "  return text\n"
      ],
      "metadata": {
        "id": "FuxF2QcQtyCA"
      },
      "execution_count": 21,
      "outputs": []
    },
    {
      "cell_type": "code",
      "source": [
        "text='بزرگترین آیه ى قرآن، این آیه است كه درباره ى مسائل حقوقى ونحوه ى تنظیم اسناد تجارى مى باشد. این آیه نشانه ى دقّت نظر وجامعیّت اسلام است كه در دوره جاهلیّت و در میان مردمى عقب افتاده، دقیق ترین مسائل حقوقی را طرح كرده است.كلمه «تداینتم» از «دَین» به معناى بدهى، شامل هرگونه معامله غیر نقدى، وام و خرید سَلَف مى شود.در حدیث آمده است: اگر كسى در معامله سند و شاهد نگیـرد و مالش در معرض تلف قرار گیرد، هرچه دعا كند، داوند مسـتجاب نمى كند و مى فرماید: چرا به سفارشات من عمل نكردى؟! [771] اگر دقّت در حفظ حقوق فردى ضـرورى است، حفظ بیت المال بمرأتب ضرورى تر است!تنظیم سند، حتّى در معاملات نقدى مفید است، ولى ضـرورت آن به اندازه ى معاملات نسیه نیست در زمانى كه در تمام جزیرة ألعرب به گفته مورخان، 17 باسواد بیشتر نبوده، این همه سخن از نوشتن، نشانه ى توجّه اسلام به علم وحفظ حقوق است.'\n",
        "text_normaliz=preprocess_hazm(text)\n",
        "text_normaliz=normalizer.normalize (text_normaliz)\n",
        "text_normaliz=postprocess_hazm(text_normaliz)\n",
        "print(text)\n",
        "print(text_normaliz)"
      ],
      "metadata": {
        "colab": {
          "base_uri": "https://localhost:8080/"
        },
        "id": "pEZ-9xJst1KI",
        "outputId": "705ad170-8af5-45e9-e21e-4d689ce1db58"
      },
      "execution_count": 24,
      "outputs": [
        {
          "output_type": "stream",
          "name": "stdout",
          "text": [
            "بزرگترین آیه ى قرآن، این آیه است كه درباره ى مسائل حقوقى ونحوه ى تنظیم اسناد تجارى مى باشد. این آیه نشانه ى دقّت نظر وجامعیّت اسلام است كه در دوره جاهلیّت و در میان مردمى عقب افتاده، دقیق ترین مسائل حقوقی را طرح كرده است.كلمه «تداینتم» از «دَین» به معناى بدهى، شامل هرگونه معامله غیر نقدى، وام و خرید سَلَف مى شود.در حدیث آمده است: اگر كسى در معامله سند و شاهد نگیـرد و مالش در معرض تلف قرار گیرد، هرچه دعا كند، داوند مسـتجاب نمى كند و مى فرماید: چرا به سفارشات من عمل نكردى؟! [771] اگر دقّت در حفظ حقوق فردى ضـرورى است، حفظ بیت المال بمرأتب ضرورى تر است!تنظیم سند، حتّى در معاملات نقدى مفید است، ولى ضـرورت آن به اندازه ى معاملات نسیه نیست در زمانى كه در تمام جزیرة ألعرب به گفته مورخان، 17 باسواد بیشتر نبوده، این همه سخن از نوشتن، نشانه ى توجّه اسلام به علم وحفظ حقوق است.\n",
            "بزرگترین آیه‌ی قرآن، این آیه است که درباره‌ی مسائل حقوقی و نحوه‌ی تنظیم اسناد تجاری می‌باشد. این آیه نشانه‌ی دقت نظر و جامعیت اسلام است که در دوره جاهلیت و در میان مردمی عقب افتاده، دقیق‌ترین مسائل حقوقی را طرح کرده است. کلمه «تداینتم» از «دین» به معنای بدهی، شامل هرگونه معامله غیر نقدی، وام و خرید سلف می‌شود. در حدیث آمده است: اگر کسی در معامله سند و شاهد نگیرد و مالش در معرض تلف قرار گیرد، هرچه دعا کند، داوند مستجاب نمی‌کند و می‌فرماید: چرا به سفارشات من عمل نکردی؟! [۷۷۱] اگر دقت در حفظ حقوق فردی ضروری است، حفظ بیت المال بمراتب ضروری‌تر است! تنظیم سند، حتی در معاملات نقدی مفید است، ولی ضرورت آن به اندازه‌ی معاملات نسیه نیست در زمانی که در تمام جزیره العرب به گفته مورخان، ۱۷ باسواد بیشتر نبوده، این همه سخن از نوشتن، نشانه‌ی توجه اسلام به علم و حفظ حقوق است.\n"
          ]
        }
      ]
    }
  ]
}